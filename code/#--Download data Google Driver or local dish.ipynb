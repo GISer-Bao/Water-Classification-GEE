{
 "cells": [
  {
   "cell_type": "markdown",
   "metadata": {},
   "source": [
    "NOTE : Considering some of GEE's user limits and avoiding some system errors, such as \"ERROR: user memory limit exceeded\",\"TimeoutError\", etc,we will process or download some data beforehand and upload it to GEE Assets, where it will be called up when needed."
   ]
  },
  {
   "cell_type": "markdown",
   "metadata": {},
   "source": [
    "Special reminder: the following variables or parameters need to be modified\n",
    "\n",
    "Must be amended : \"roi\",\"region\"\n",
    "\n",
    "May have to be modified (Depending on your actual situation) : "
   ]
  },
  {
   "cell_type": "code",
   "execution_count": null,
   "metadata": {
    "ExecuteTime": {
     "end_time": "2022-04-06T14:18:41.137690Z",
     "start_time": "2022-04-06T14:18:41.115051Z"
    }
   },
   "outputs": [],
   "source": [
    "#### If you are trying to use geemap in coutries where Gooogle Services are blocked (e.g., China), \n",
    "#### you will need a VPN,then replace \"10809\" with your \"proxy port number\"to connect to Earth Engine servers.\n",
    "#### Otherwise, you might encounter a connection timeout issue.\n",
    "\n",
    "import os\n",
    "os.environ['HTTP_PROXY'] = \"http://127.0.0.1:10809\"\n",
    "os.environ['HTTPS_PROXY'] = \"http://127.0.0.1:10809\""
   ]
  },
  {
   "cell_type": "code",
   "execution_count": null,
   "metadata": {
    "ExecuteTime": {
     "end_time": "2022-04-06T14:18:46.449951Z",
     "start_time": "2022-04-06T14:18:41.389180Z"
    },
    "scrolled": false
   },
   "outputs": [],
   "source": [
    "#### Initializing GEE\n",
    "\n",
    "import geemap\n",
    "import ee\n",
    "Map=geemap.Map()\n",
    "Map"
   ]
  },
  {
   "cell_type": "code",
   "execution_count": null,
   "metadata": {
    "ExecuteTime": {
     "end_time": "2022-04-06T14:18:47.182288Z",
     "start_time": "2022-04-06T14:18:46.498557Z"
    }
   },
   "outputs": [],
   "source": [
    "#### Setting the boundaries of the study area.\n",
    "#### Format: ee.Geometry.Rectangle(minLng, minLat, maxLng, maxLat)\n",
    "\n",
    "roi = ee.Geometry.Rectangle([113.7393, 29.8642,115.0993, 30.9242])\n",
    "Map.addLayer(roi, {}, \"roi\")\n",
    "Map.centerObject(roi,7)"
   ]
  },
  {
   "cell_type": "markdown",
   "metadata": {},
   "source": [
    "# Download images----Google Driver or local dish"
   ]
  },
  {
   "cell_type": "markdown",
   "metadata": {},
   "source": [
    "By default, all processing results are saved to GEE's Assets. \n",
    "\n",
    "If required, they can also be downloaded to a local disk or Google Drive"
   ]
  },
  {
   "cell_type": "markdown",
   "metadata": {},
   "source": [
    "## Download to Google Drive"
   ]
  },
  {
   "cell_type": "code",
   "execution_count": null,
   "metadata": {
    "ExecuteTime": {
     "end_time": "2022-04-03T08:47:33.912126Z",
     "start_time": "2022-04-03T08:47:33.908143Z"
    }
   },
   "outputs": [],
   "source": [
    "#### Calling the image data stored in GEE's Assets. \n",
    "## \"data_id\" indicates the image id stored in GEE's Assets\n",
    "\n",
    "data_id = 'users/311605001111/WF_uncorrected/wuhan_WF_2020'\n",
    "waterfrequency = ee.Image(data_id)"
   ]
  },
  {
   "cell_type": "code",
   "execution_count": null,
   "metadata": {
    "ExecuteTime": {
     "end_time": "2022-04-03T08:47:51.396944Z",
     "start_time": "2022-04-03T08:47:50.459111Z"
    }
   },
   "outputs": [],
   "source": [
    "#### The data will be stored in Google Drive\n",
    "## \"dataset_id\" indicates the file name; \"folder\" indicates the file path in Google Drive.\n",
    "## They need to be modified to suit your situation\n",
    "\n",
    "year = 2020\n",
    "region = 'wuhan'\n",
    "dataset_id = region + '_WF_uncorrected_' + str(year)\n",
    "folder = region + '_WF_uncorrected'\n",
    "\n",
    "task = ee.batch.Export.image.toDrive(**{\n",
    "    'image': waterfrequency,\n",
    "    'description': dataset_id,\n",
    "    'folder': folder,\n",
    "    'scale': 30,\n",
    "    'region': roi,\n",
    "    'maxPixels': 1e13,\n",
    "})\n",
    "task.start()"
   ]
  },
  {
   "cell_type": "code",
   "execution_count": null,
   "metadata": {},
   "outputs": [],
   "source": []
  },
  {
   "cell_type": "markdown",
   "metadata": {},
   "source": [
    "## Download to local disk"
   ]
  },
  {
   "cell_type": "code",
   "execution_count": null,
   "metadata": {
    "ExecuteTime": {
     "end_time": "2022-04-06T14:19:08.207772Z",
     "start_time": "2022-04-06T14:19:08.196747Z"
    }
   },
   "outputs": [],
   "source": [
    "#### Calling the image data stored in GEE's Assets. \n",
    "## \"data_id\" indicates the image id stored in GEE's Assets\n",
    "\n",
    "data_id = 'users/311605001111/WF_uncorrected/wuhan_WF_2020'\n",
    "waterfrequency = ee.Image(data_id)"
   ]
  },
  {
   "cell_type": "code",
   "execution_count": null,
   "metadata": {
    "ExecuteTime": {
     "end_time": "2022-04-06T14:19:24.564452Z",
     "start_time": "2022-04-06T14:19:18.531005Z"
    }
   },
   "outputs": [],
   "source": [
    "#### The data will be stored in local dish\n",
    "## \"dataset_id\" indicates the file name; \"folder indicates the file path in local dish.\n",
    "## For example, the path for this experiment is \"D:/wuhan_WF_uncorrected/wuhan_WF_uncorrected_2020.tif\"\n",
    "## They need to be modified to suit your situation\n",
    "\n",
    "year = 2020\n",
    "region = 'wuhan'\n",
    "folder = 'D:/' + region + '_WF_uncorrected/'+ region + '_WF_uncorrected_' + str(year) + '.tif'\n",
    "\n",
    "task = geemap.ee_export_image(**{\n",
    "    'ee_object' : waterfrequency,\n",
    "    'filename' : folder, \n",
    "    'scale' : 30, \n",
    "    'region' : roi, \n",
    "    'file_per_band' : False        \n",
    "})\n",
    "task"
   ]
  },
  {
   "cell_type": "code",
   "execution_count": null,
   "metadata": {
    "ExecuteTime": {
     "end_time": "2022-04-04T01:12:45.778797Z",
     "start_time": "2022-04-04T01:12:45.767828Z"
    }
   },
   "outputs": [],
   "source": []
  },
  {
   "cell_type": "markdown",
   "metadata": {},
   "source": [
    "# Download samples----Google Driver or local dish"
   ]
  },
  {
   "cell_type": "markdown",
   "metadata": {},
   "source": [
    "By default, all processing results are saved to GEE's Assets. \n",
    "\n",
    "If required, they can also be downloaded to a local disk or Google Drive"
   ]
  },
  {
   "cell_type": "markdown",
   "metadata": {},
   "source": [
    "## Download to Google Drive"
   ]
  },
  {
   "cell_type": "code",
   "execution_count": null,
   "metadata": {},
   "outputs": [],
   "source": [
    "#### Calling the samples data stored in GEE's Assets. \n",
    "## \"data_id\" indicates the samples data id stored in GEE's Assets\n",
    "\n",
    "data_id = 'users/311605001111/man_sample_1000/WUHAN2020'\n",
    "samples = ee.FeatureCollection(data_id)"
   ]
  },
  {
   "cell_type": "code",
   "execution_count": null,
   "metadata": {},
   "outputs": [],
   "source": [
    "#### The data will be stored in local dish\n",
    "## \"dataset_id\" indicates the file name; \"folder\" indicates the file path in local dish.\n",
    "## They need to be modified to suit your situation\n",
    "\n",
    "year = 2020\n",
    "region = 'wuhan'\n",
    "dataset_id = region + '_' + str(year)\n",
    "folder = region + '_samples'\n",
    "\n",
    "task = ee.batch.Export.table.toDrive(**{\n",
    "    'collection': samples,\n",
    "    'description':dataset_id,\n",
    "    'folder': folder,\n",
    "    'fileFormat': 'shp',\n",
    "})\n",
    "task.start()"
   ]
  },
  {
   "cell_type": "markdown",
   "metadata": {},
   "source": [
    "## Download to local disk"
   ]
  },
  {
   "cell_type": "code",
   "execution_count": null,
   "metadata": {},
   "outputs": [],
   "source": [
    "#### Calling the samples data stored in GEE's Assets. \n",
    "## \"data_id\" indicates the samples data id stored in GEE's Assets\n",
    "\n",
    "data_id = 'users/311605001111/man_sample_1000/WUHAN2020'\n",
    "samples = ee.FeatureCollection(data_id)"
   ]
  },
  {
   "cell_type": "code",
   "execution_count": null,
   "metadata": {
    "ExecuteTime": {
     "end_time": "2022-04-06T14:23:36.062165Z",
     "start_time": "2022-04-06T14:23:36.051302Z"
    }
   },
   "outputs": [],
   "source": [
    "#### The data will be stored in local dish\n",
    "## \"folder indicates the file path in local dish.\n",
    "## For example, the path for this experiment is \"D:/wuhan_samples/wuhan_2020.shp\"\n",
    "## They need to be modified to suit your situation\n",
    "\n",
    "region = 'wuhan'\n",
    "folder = 'D:/' + region + '_samples/' + region + '_2020.shp'\n",
    "\n",
    "task = geemap.ee_export_vector(samples, filename= folder)\n",
    "task.start()"
   ]
  },
  {
   "cell_type": "code",
   "execution_count": null,
   "metadata": {},
   "outputs": [],
   "source": []
  },
  {
   "cell_type": "code",
   "execution_count": null,
   "metadata": {},
   "outputs": [],
   "source": []
  }
 ],
 "metadata": {
  "hide_input": false,
  "kernelspec": {
   "display_name": "Python 3 (ipykernel)",
   "language": "python",
   "name": "python3"
  },
  "language_info": {
   "codemirror_mode": {
    "name": "ipython",
    "version": 3
   },
   "file_extension": ".py",
   "mimetype": "text/x-python",
   "name": "python",
   "nbconvert_exporter": "python",
   "pygments_lexer": "ipython3",
   "version": "3.8.12"
  },
  "toc": {
   "base_numbering": 1,
   "nav_menu": {},
   "number_sections": true,
   "sideBar": true,
   "skip_h1_title": false,
   "title_cell": "Table of Contents",
   "title_sidebar": "Contents",
   "toc_cell": false,
   "toc_position": {
    "height": "calc(100% - 180px)",
    "left": "10px",
    "top": "150px",
    "width": "263.097px"
   },
   "toc_section_display": true,
   "toc_window_display": false
  },
  "varInspector": {
   "cols": {
    "lenName": 16,
    "lenType": 16,
    "lenVar": 40
   },
   "kernels_config": {
    "python": {
     "delete_cmd_postfix": "",
     "delete_cmd_prefix": "del ",
     "library": "var_list.py",
     "varRefreshCmd": "print(var_dic_list())"
    },
    "r": {
     "delete_cmd_postfix": ") ",
     "delete_cmd_prefix": "rm(",
     "library": "var_list.r",
     "varRefreshCmd": "cat(var_dic_list()) "
    }
   },
   "types_to_exclude": [
    "module",
    "function",
    "builtin_function_or_method",
    "instance",
    "_Feature"
   ],
   "window_display": false
  }
 },
 "nbformat": 4,
 "nbformat_minor": 4
}
