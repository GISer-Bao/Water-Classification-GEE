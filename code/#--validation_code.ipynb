{
 "cells": [
  {
   "cell_type": "code",
   "execution_count": null,
   "metadata": {
    "ExecuteTime": {
     "end_time": "2022-10-17T11:32:10.253685Z",
     "start_time": "2022-10-17T11:32:10.243716Z"
    }
   },
   "outputs": [],
   "source": [
    "import os\n",
    "os.environ['HTTP_PROXY'] = \"http://127.0.0.1:10809\"\n",
    "os.environ['HTTPS_PROXY'] = \"http://127.0.0.1:10809\""
   ]
  },
  {
   "cell_type": "code",
   "execution_count": null,
   "metadata": {
    "ExecuteTime": {
     "end_time": "2022-10-17T11:32:19.577000Z",
     "start_time": "2022-10-17T11:32:10.525960Z"
    },
    "scrolled": false
   },
   "outputs": [],
   "source": [
    "import geemap\n",
    "import ee\n",
    "Map=geemap.Map()\n",
    "Map"
   ]
  },
  {
   "cell_type": "code",
   "execution_count": null,
   "metadata": {
    "ExecuteTime": {
     "end_time": "2022-10-17T11:32:21.102242Z",
     "start_time": "2022-10-17T11:32:19.658781Z"
    }
   },
   "outputs": [],
   "source": [
    "## region A\n",
    "# roi = ee.Geometry.Rectangle([123.9355, 45.8362,125.3055, 46.8762])\n",
    "## region B\n",
    "# roi = ee.Geometry.Rectangle([115.9244, 38.6272,117.4944,39.6372])\n",
    "## region C\n",
    "# roi = ee.Geometry.Rectangle([113.7393, 29.8642,115.0993, 30.9242])\n",
    "## region D\n",
    "# roi = ee.Geometry.Rectangle([112.7614, 22.2347,114.0514, 23.2547])\n",
    "## region E\n",
    "roi = ee.Geometry.Rectangle([89.8826, 34.6579,91.3626, 35.8279])\n",
    "Map.addLayer(roi, {}, \"roi\")\n",
    "Map.centerObject(roi,7)"
   ]
  },
  {
   "cell_type": "code",
   "execution_count": null,
   "metadata": {
    "ExecuteTime": {
     "end_time": "2022-10-17T11:32:21.241841Z",
     "start_time": "2022-10-17T11:32:21.227879Z"
    }
   },
   "outputs": [],
   "source": [
    "# region = 'daqing'\n",
    "# sample_region = 'DAQING'\n",
    "# region = 'tianjin'\n",
    "# sample_region = 'TIANJIN'\n",
    "# region = 'wuhan'\n",
    "# sample_region = 'WUHAN'\n",
    "# region = 'prd'\n",
    "# sample_region = 'PRD'\n",
    "region = 'tibet'\n",
    "sample_region = 'TIBET'"
   ]
  },
  {
   "cell_type": "code",
   "execution_count": null,
   "metadata": {},
   "outputs": [],
   "source": []
  },
  {
   "cell_type": "markdown",
   "metadata": {},
   "source": [
    "# Validation for classification results"
   ]
  },
  {
   "cell_type": "code",
   "execution_count": null,
   "metadata": {
    "ExecuteTime": {
     "end_time": "2022-10-17T11:32:21.383463Z",
     "start_time": "2022-10-17T11:32:21.370497Z"
    }
   },
   "outputs": [],
   "source": [
    "import numpy as np\n",
    "def cal_accuracy(Matrix, propation):\n",
    "    matrix = np.array(Matrix).transpose([1,0])\n",
    "    axis1_sum = np.repeat(matrix.sum(axis=1).reshape(2,1), repeats=2, axis=1)\n",
    "    propation = np.repeat(np.array(propation).reshape(2,1), repeats=2, axis=1)\n",
    "    matrix_area = matrix / axis1_sum * propation\n",
    "    print('Matrix:\\n{}'.format(matrix_area))\n",
    "\n",
    "    overall_acc = matrix_area.diagonal().sum()\n",
    "    print('overall accuracy: {}'.format(overall_acc))\n",
    "    \n",
    "    user_sum = np.repeat(matrix_area.sum(axis=1).reshape(2,1), repeats=2, axis=1)\n",
    "    user = np.array(matrix_area/user_sum).diagonal()\n",
    "    print('user accuracy: {}'.format(user))\n",
    "    \n",
    "    product_sum = np.repeat(matrix_area.sum(axis=0).reshape(2,1), repeats=2, axis=1)\n",
    "    product = np.array(matrix_area/product_sum).diagonal()\n",
    "    print('product accuracy: {}'.format(product))\n",
    "    \n",
    "    return overall_acc, user, product"
   ]
  },
  {
   "cell_type": "code",
   "execution_count": null,
   "metadata": {
    "ExecuteTime": {
     "end_time": "2022-10-17T11:32:39.722439Z",
     "start_time": "2022-10-17T11:32:21.482200Z"
    }
   },
   "outputs": [],
   "source": [
    "TIME = [['2000'],['2005'],['2010'],['2015'],['2020']]\n",
    "\n",
    "for time in TIME:\n",
    "    print(time[0])\n",
    "    manual_samples = ee.FeatureCollection('users/311605001111/manual_samples_1000/' + sample_region + time[0])\n",
    "    print('manual-sample number:{}'.format(manual_samples.size().getInfo()))\n",
    "    test_accuracy = manual_samples.errorMatrix('label', 'waterclass')\n",
    "    print(\"no area-weighted\")\n",
    "    print(test_accuracy.getInfo())\n",
    "    print('overall accuracy:{}'.format(test_accuracy.accuracy().getInfo()))\n",
    "    print('kappa:{}'.format(test_accuracy.kappa().getInfo()))    \n",
    "    \n",
    "    # regino A,C,E\n",
    "    print(\"area-weighted\")\n",
    "    cal_accuracy(test_accuracy.getInfo(),propation=[85,15])\n",
    "#     # regino B\n",
    "#     cal_accuracy(test_accuracy.getInfo(),propation=[90,10])\n",
    "#     # regino D\n",
    "#     cal_accuracy(test_accuracy.getInfo(),propation=[80,20])"
   ]
  },
  {
   "cell_type": "code",
   "execution_count": null,
   "metadata": {},
   "outputs": [],
   "source": []
  },
  {
   "cell_type": "code",
   "execution_count": null,
   "metadata": {},
   "outputs": [],
   "source": []
  },
  {
   "cell_type": "markdown",
   "metadata": {},
   "source": [
    "# Validation for automatically building sample sets"
   ]
  },
  {
   "cell_type": "code",
   "execution_count": null,
   "metadata": {
    "ExecuteTime": {
     "end_time": "2022-10-17T10:32:31.069931Z",
     "start_time": "2022-10-17T10:32:31.054940Z"
    }
   },
   "outputs": [],
   "source": [
    "import numpy as np\n",
    "def cal_accuracy(Matrix, propation):\n",
    "    matrix = np.array(Matrix).transpose([1,0])\n",
    "    axis1_sum = np.repeat(matrix.sum(axis=1).reshape(2,1), repeats=2, axis=1)\n",
    "    propation = np.repeat(np.array(propation).reshape(2,1), repeats=2, axis=1)\n",
    "    matrix_area = matrix / axis1_sum * propation\n",
    "    print('Matrix:\\n{}'.format(matrix_area))\n",
    "\n",
    "    overall_acc = matrix_area.diagonal().sum()\n",
    "    print('overall accuracy: {}'.format(overall_acc))\n",
    "    \n",
    "    user_sum = np.repeat(matrix_area.sum(axis=1).reshape(2,1), repeats=2, axis=1)\n",
    "    user = np.array(matrix_area/user_sum).diagonal()\n",
    "    print('user accuracy: {}'.format(user))\n",
    "    \n",
    "    product_sum = np.repeat(matrix_area.sum(axis=0).reshape(2,1), repeats=2, axis=1)\n",
    "    product = np.array(matrix_area/product_sum).diagonal()\n",
    "    print('product accuracy: {}'.format(product))\n",
    "    \n",
    "    return overall_acc, user, product"
   ]
  },
  {
   "cell_type": "code",
   "execution_count": null,
   "metadata": {
    "ExecuteTime": {
     "end_time": "2022-10-17T10:34:57.709154Z",
     "start_time": "2022-10-17T10:34:39.053373Z"
    }
   },
   "outputs": [],
   "source": [
    "TIME = [['1999'],['2004'],['2009'],['2014'],['2019']]\n",
    "\n",
    "for time in TIME:\n",
    "    print(time[0])\n",
    "    manual_samples = ee.FeatureCollection('users/311605001111/man_samples_250/' + sample_region + time[0])\n",
    "    print('manual-sample number:{}'.format(manual_samples.size().getInfo()))\n",
    "    test_accuracy = manual_samples.errorMatrix('label', 'waterclass')\n",
    "    print(\"no area-weighted\")\n",
    "    print(test_accuracy.getInfo())\n",
    "    print('overall accuracy:{}'.format(test_accuracy.accuracy().getInfo()))\n",
    "    print('kappa:{}'.format(test_accuracy.kappa().getInfo()))    \n",
    "    \n",
    "    # regino A,B,C,D,E\n",
    "    print(\"area-weighted\")\n",
    "    cal_accuracy(test_accuracy.getInfo(),propation=[50,50])\n"
   ]
  },
  {
   "cell_type": "code",
   "execution_count": null,
   "metadata": {},
   "outputs": [],
   "source": []
  }
 ],
 "metadata": {
  "hide_input": false,
  "kernelspec": {
   "display_name": "Python 3 (ipykernel)",
   "language": "python",
   "name": "python3"
  },
  "language_info": {
   "codemirror_mode": {
    "name": "ipython",
    "version": 3
   },
   "file_extension": ".py",
   "mimetype": "text/x-python",
   "name": "python",
   "nbconvert_exporter": "python",
   "pygments_lexer": "ipython3",
   "version": "3.8.12"
  },
  "toc": {
   "base_numbering": 1,
   "nav_menu": {},
   "number_sections": true,
   "sideBar": true,
   "skip_h1_title": false,
   "title_cell": "Table of Contents",
   "title_sidebar": "Contents",
   "toc_cell": false,
   "toc_position": {
    "height": "calc(100% - 180px)",
    "left": "10px",
    "top": "150px",
    "width": "216.094px"
   },
   "toc_section_display": true,
   "toc_window_display": true
  },
  "varInspector": {
   "cols": {
    "lenName": 16,
    "lenType": 16,
    "lenVar": 40
   },
   "kernels_config": {
    "python": {
     "delete_cmd_postfix": "",
     "delete_cmd_prefix": "del ",
     "library": "var_list.py",
     "varRefreshCmd": "print(var_dic_list())"
    },
    "r": {
     "delete_cmd_postfix": ") ",
     "delete_cmd_prefix": "rm(",
     "library": "var_list.r",
     "varRefreshCmd": "cat(var_dic_list()) "
    }
   },
   "types_to_exclude": [
    "module",
    "function",
    "builtin_function_or_method",
    "instance",
    "_Feature"
   ],
   "window_display": false
  }
 },
 "nbformat": 4,
 "nbformat_minor": 4
}
