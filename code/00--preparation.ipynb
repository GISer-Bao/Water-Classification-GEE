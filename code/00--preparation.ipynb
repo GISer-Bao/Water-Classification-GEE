{
 "cells": [
  {
   "cell_type": "markdown",
   "id": "b76d61e8",
   "metadata": {},
   "source": [
    "NOTE : Considering some of GEE's user limits and avoiding some system errors, such as \"ERROR: user memory limit exceeded\",\"TimeoutError\", etc,we will process or download some data beforehand and upload it to GEE Assets, where it will be called up when needed."
   ]
  },
  {
   "cell_type": "markdown",
   "id": "2c525f41",
   "metadata": {},
   "source": [
    "Special reminder: the following variables or parameters need to be modified\n",
    "\n",
    "Must be modified : \"roi\",\"dataset_id\",\"assetID\"\n",
    "\n",
    "May have to be modified (Depending on your actual situation) : "
   ]
  },
  {
   "cell_type": "code",
   "execution_count": null,
   "id": "73e96f53",
   "metadata": {
    "ExecuteTime": {
     "end_time": "2022-04-02T09:07:07.698159Z",
     "start_time": "2022-04-02T09:07:07.684955Z"
    }
   },
   "outputs": [],
   "source": [
    "### If you are trying to use geemap in coutries where Gooogle Services are blocked (e.g., China), \n",
    "### you will need a VPN,then replace \"10809\" with your \"proxy port number\"to connect to Earth Engine servers.\n",
    "### Otherwise, you might encounter a connection timeout issue.\n",
    "\n",
    "import os\n",
    "os.environ['HTTP_PROXY'] = \"http://127.0.0.1:10809\"\n",
    "os.environ['HTTPS_PROXY'] = \"http://127.0.0.1:10809\""
   ]
  },
  {
   "cell_type": "code",
   "execution_count": null,
   "id": "73519a3f",
   "metadata": {
    "ExecuteTime": {
     "end_time": "2022-04-02T09:07:25.991065Z",
     "start_time": "2022-04-02T09:07:20.636597Z"
    }
   },
   "outputs": [],
   "source": [
    "import os\n",
    "import geemap\n",
    "import ee\n",
    "Map = geemap.Map()\n",
    "Map"
   ]
  },
  {
   "cell_type": "markdown",
   "id": "12880a80",
   "metadata": {
    "ExecuteTime": {
     "end_time": "2022-04-02T09:07:29.861281Z",
     "start_time": "2022-04-02T09:07:28.356687Z"
    }
   },
   "source": [
    "Setting the boundaries of the study area."
   ]
  },
  {
   "cell_type": "code",
   "execution_count": null,
   "id": "49dd6dc2",
   "metadata": {
    "ExecuteTime": {
     "end_time": "2022-04-02T09:07:29.861281Z",
     "start_time": "2022-04-02T09:07:28.356687Z"
    }
   },
   "outputs": [],
   "source": [
    "## Format: ee.Geometry.Rectangle(minLng, minLat, maxLng, maxLat)\n",
    "\n",
    "roi = ee.Geometry.Rectangle([113.7393, 29.8642,115.0993, 30.9242])\n",
    "Map.addLayer(roi, {}, \"roi\")\n",
    "Map.centerObject(roi,7)"
   ]
  },
  {
   "cell_type": "markdown",
   "id": "468a7848",
   "metadata": {
    "ExecuteTime": {
     "end_time": "2022-04-02T09:17:52.133342Z",
     "start_time": "2022-04-02T09:17:52.123340Z"
    }
   },
   "source": [
    "Download elevation data to GEE's Assets"
   ]
  },
  {
   "cell_type": "code",
   "execution_count": null,
   "id": "9dd9cc03",
   "metadata": {},
   "outputs": [],
   "source": [
    "#### \"dataset_id\" indicates the file name; \"assetID\" indicates the file path in GEE's Assets.\n",
    "#### They need to be modified to suit your situation\n",
    "\n",
    "dataset_id = 'hillshade_wuhan'\n",
    "assetID = 'users/311605001111/' + dataset_id\n",
    "\n",
    "elevation = ee.Image('USGS/SRTMGL1_003').select('elevation').clip(roi).reproject('EPSG:3857',None,30)\n",
    "task = ee.batch.Export.image.toAsset(**{\n",
    "    'image': elevation,\n",
    "    'description': dataset_id,\n",
    "    'assetId': assetID,\n",
    "    'scale': 30,\n",
    "    'region': roi,\n",
    "    'maxPixels': 1e13,\n",
    "})\n",
    "task.start()"
   ]
  },
  {
   "cell_type": "markdown",
   "id": "0378d72c",
   "metadata": {},
   "source": [
    "You can view the download progress in \"Google earth engine->Code Editor->Tasks\""
   ]
  },
  {
   "cell_type": "code",
   "execution_count": null,
   "id": "9c3d5e8a",
   "metadata": {},
   "outputs": [],
   "source": []
  }
 ],
 "metadata": {
  "hide_input": false,
  "kernelspec": {
   "display_name": "Python 3 (ipykernel)",
   "language": "python",
   "name": "python3"
  },
  "language_info": {
   "codemirror_mode": {
    "name": "ipython",
    "version": 3
   },
   "file_extension": ".py",
   "mimetype": "text/x-python",
   "name": "python",
   "nbconvert_exporter": "python",
   "pygments_lexer": "ipython3",
   "version": "3.8.12"
  },
  "toc": {
   "base_numbering": 1,
   "nav_menu": {},
   "number_sections": true,
   "sideBar": true,
   "skip_h1_title": false,
   "title_cell": "Table of Contents",
   "title_sidebar": "Contents",
   "toc_cell": false,
   "toc_position": {},
   "toc_section_display": true,
   "toc_window_display": false
  },
  "varInspector": {
   "cols": {
    "lenName": 16,
    "lenType": 16,
    "lenVar": 40
   },
   "kernels_config": {
    "python": {
     "delete_cmd_postfix": "",
     "delete_cmd_prefix": "del ",
     "library": "var_list.py",
     "varRefreshCmd": "print(var_dic_list())"
    },
    "r": {
     "delete_cmd_postfix": ") ",
     "delete_cmd_prefix": "rm(",
     "library": "var_list.r",
     "varRefreshCmd": "cat(var_dic_list()) "
    }
   },
   "types_to_exclude": [
    "module",
    "function",
    "builtin_function_or_method",
    "instance",
    "_Feature"
   ],
   "window_display": false
  }
 },
 "nbformat": 4,
 "nbformat_minor": 5
}
