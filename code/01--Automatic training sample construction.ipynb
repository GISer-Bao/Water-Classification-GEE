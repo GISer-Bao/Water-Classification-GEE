{
 "cells": [
  {
   "cell_type": "markdown",
   "metadata": {},
   "source": [
    "NOTE : Considering some of GEE's user limits and avoiding some system errors, such as \"ERROR: user memory limit exceeded\",\"TimeoutError\", etc,we will process or download some data beforehand and upload it to GEE Assets, where it will be called up when needed."
   ]
  },
  {
   "cell_type": "markdown",
   "metadata": {},
   "source": [
    "Special reminder: the following variables or parameters need to be modified\n",
    "\n",
    "Must be amended : \"roi\",\"region\",\"elevation\"\n",
    "\n",
    "May have to be modified (Depending on your actual situation) : \"number_land\",\"number_water\",\"number_seasonal_water\""
   ]
  },
  {
   "cell_type": "code",
   "execution_count": null,
   "metadata": {
    "ExecuteTime": {
     "end_time": "2022-03-26T05:20:10.604337Z",
     "start_time": "2022-03-26T05:20:10.590406Z"
    }
   },
   "outputs": [],
   "source": [
    "#### If you are trying to use geemap in coutries where Gooogle Services are blocked (e.g., China), \n",
    "#### you will need a VPN,then replace \"10809\" with your \"proxy port number\"to connect to Earth Engine servers.\n",
    "#### Otherwise, you might encounter a connection timeout issue.\n",
    "\n",
    "import os\n",
    "os.environ['HTTP_PROXY'] = \"http://127.0.0.1:10809\"\n",
    "os.environ['HTTPS_PROXY'] = \"http://127.0.0.1:10809\""
   ]
  },
  {
   "cell_type": "code",
   "execution_count": null,
   "metadata": {
    "ExecuteTime": {
     "end_time": "2022-03-26T05:20:16.001505Z",
     "start_time": "2022-03-26T05:20:10.769560Z"
    },
    "scrolled": false
   },
   "outputs": [],
   "source": [
    "#### Initializing GEE\n",
    "\n",
    "import geemap\n",
    "import ee\n",
    "Map=geemap.Map()\n",
    "Map"
   ]
  },
  {
   "cell_type": "code",
   "execution_count": null,
   "metadata": {},
   "outputs": [],
   "source": [
    "#### Setting the boundaries of the study area.\n",
    "#### Format: ee.Geometry.Rectangle(minLng, minLat, maxLng, maxLat)\n",
    "\n",
    "roi = ee.Geometry.Rectangle([113.7393, 29.8642,115.0993, 30.9242])\n",
    "Map.addLayer(roi, {}, \"roi\")\n",
    "Map.centerObject(roi,7)"
   ]
  },
  {
   "cell_type": "code",
   "execution_count": null,
   "metadata": {
    "ExecuteTime": {
     "end_time": "2021-12-24T05:14:54.707184Z",
     "start_time": "2021-12-24T05:14:54.697875Z"
    }
   },
   "outputs": [],
   "source": [
    "#### Defining variables\n",
    "region = 'wuhan'\n",
    "\n",
    "#### Calls for elevation data, which he has downloaded to GEE's Assets in \"00--preparation.ipynb\"\n",
    "elevation = ee.Image(\"users/311605001111/hillshade_wuhan\")\n",
    "\n",
    "#### Visualisation parameters for Landsat8 images\n",
    "visParams = {'bands': ['B5', 'B6', 'B4'],'min': 0,'max': 3000,'gamma': 1.4}"
   ]
  },
  {
   "cell_type": "markdown",
   "metadata": {
    "ExecuteTime": {
     "end_time": "2021-12-24T05:14:55.737230Z",
     "start_time": "2021-12-24T05:14:55.725074Z"
    }
   },
   "source": [
    "# Define the relevant functions"
   ]
  },
  {
   "cell_type": "code",
   "execution_count": null,
   "metadata": {
    "ExecuteTime": {
     "end_time": "2021-12-24T05:14:55.737230Z",
     "start_time": "2021-12-24T05:14:55.725074Z"
    }
   },
   "outputs": [],
   "source": [
    "## Masked invalid pixels\n",
    "\n",
    "def maskSR(img):\n",
    "    cloudShadowBitMask = (1 << 3)\n",
    "    cloudsBitMask = (1 << 5)\n",
    "    snowBitMask = (1 << 4)   \n",
    "    qa = img.select('pixel_qa')\n",
    "    mask = qa.bitwiseAnd(cloudShadowBitMask).eq(0) \\\n",
    "                   .And(qa.bitwiseAnd(cloudsBitMask).eq(0)) \\\n",
    "                   .And(qa.bitwiseAnd(snowBitMask).eq(0))\n",
    "    azimuth = img.get('SOLAR_AZIMUTH_ANGLE')\n",
    "    zenith = img.get('SOLAR_ZENITH_ANGLE')\n",
    "    image = img.lt(0)\n",
    "    bands = image.select('B2').add(image.select('B3')).add(image.select('B4')).add(image.select('B5')).add(image.select('B6')).add(image.select('B7'))\n",
    "    outlier = bands.gt(0).remap([0,1],[1,0]).rename('outlier')\n",
    "    return img.updateMask(mask).updateMask(ee.Terrain.hillShadow(elevation,azimuth,zenith,200,True)).updateMask(outlier)\n",
    "\n",
    "## Calculation of the relevant index\n",
    "def water_index(img):\n",
    "    image = img.clip(roi)\n",
    "    ndvi=image.normalizedDifference(['B5', 'B4']).rename('NDVI')\n",
    "    ndwi=image.normalizedDifference(['B3', 'B5']).rename(\"NDWI\")\n",
    "    mndwi=image.normalizedDifference(['B3', 'B6']).rename(\"mNDWI\")\n",
    "    cwi=image.select('B3').divide(image.select('B6')).rename(\"CWI\")\n",
    "    awei = image.expression('(B2 + 2.5*B3 - 1.5*(B5+B6) - 0.25*B7)/10000',\n",
    "        {\n",
    "          'B2': image.select('B2'),\n",
    "          'B3': image.select('B3'),    \n",
    "          'B5': image.select('B5'),    \n",
    "          'B6': image.select('B6'),\n",
    "          'B7': image.select('B7'),\n",
    "        }).rename('AWEI')\n",
    "    ewi = image.expression('(B3 - B5 - B6)/(B3 + B5 + B6)',\n",
    "        {\n",
    "          'B3': image.select('B3'),    \n",
    "          'B5': image.select('B5'),    \n",
    "          'B6': image.select('B6'),\n",
    "        }).rename('EWI')\n",
    "    evi = image.expression('2.5*(B5 - B4)/(B5 + 6*B4 - 7.5*B2 + 1)',\n",
    "        {\n",
    "          'B2': image.select('B2'),\n",
    "          'B4': image.select('B4'),\n",
    "          'B5': image.select('B5'),    \n",
    "        }).rename('EVI')\n",
    "    return image.addBands(ndvi).addBands(ndwi).addBands(mndwi).addBands(cwi).addBands(awei).addBands(ewi).addBands(evi)"
   ]
  },
  {
   "cell_type": "markdown",
   "metadata": {},
   "source": [
    "# Define the sample selection function"
   ]
  },
  {
   "cell_type": "code",
   "execution_count": null,
   "metadata": {
    "ExecuteTime": {
     "end_time": "2021-12-24T05:14:55.876485Z",
     "start_time": "2021-12-24T05:14:55.861374Z"
    }
   },
   "outputs": [],
   "source": [
    "#### Set the number of samples\n",
    "## The number of samples can be adjusted according to the actual situation\n",
    "\n",
    "number_land = 250\n",
    "number_water = 3500\n",
    "number_seasonal_water = 4000"
   ]
  },
  {
   "cell_type": "code",
   "execution_count": null,
   "metadata": {
    "ExecuteTime": {
     "end_time": "2021-12-24T05:14:55.876485Z",
     "start_time": "2021-12-24T05:14:55.861374Z"
    }
   },
   "outputs": [],
   "source": [
    "def imageSample(image):\n",
    "    ## permanent water\n",
    "    permanent_points = image.updateMask(permanentWaterExtent).sample(**{\n",
    "        'region': roi,\n",
    "        'scale': 30,\n",
    "        'numPixels': number_water,\n",
    "        'seed': 0,\n",
    "        'geometries': True,\n",
    "        'tileScale': 2,\n",
    "    })\n",
    "    water_points = permanent_points.map(lambda i : i.setMulti({'waterclass':1,'point_type':'permanent_water','Image_id':image.get('system:id')}))\n",
    "    ## land\n",
    "    land_points = image.updateMask(landExtent).sample(**{\n",
    "        'region': image.geometry(),\n",
    "        'scale': 30,\n",
    "        'numPixels': number_land,\n",
    "        'seed': 0,\n",
    "        'geometries': True,\n",
    "        'tileScale': 2,\n",
    "    })\n",
    "    nowater_points = land_points.map(lambda i : i.setMulti({'waterclass':0,'point_type':'no_water','Image_id':image.get('system:id')}))\n",
    "    sample_points = ee.FeatureCollection([water_points,nowater_points]).flatten()\n",
    "    return sample_points\n",
    "\n",
    "def season(image):\n",
    "    season_points = image.updateMask(seasonWaterExtent_min).sample(**{\n",
    "        'region': roi,\n",
    "        'scale': 30,\n",
    "        'numPixels': number_seasonal_water,\n",
    "        'seed': 0,\n",
    "        'geometries': True,\n",
    "        'tileScale': 1,\n",
    "    })\n",
    "    water_points = season_points.map(lambda i : i.setMulti({'point_type':'season','Image_id':image.get('system:id')}))\n",
    "    return water_points"
   ]
  },
  {
   "cell_type": "markdown",
   "metadata": {},
   "source": [
    "# Produce samples at five-year intervals"
   ]
  },
  {
   "cell_type": "markdown",
   "metadata": {},
   "source": [
    "## permanent water and land samples"
   ]
  },
  {
   "cell_type": "markdown",
   "metadata": {},
   "source": [
    "You can view the download progress in \"Google earth engine->Code Editor->Tasks\""
   ]
  },
  {
   "cell_type": "code",
   "execution_count": null,
   "metadata": {
    "ExecuteTime": {
     "end_time": "2021-12-24T05:14:59.857366Z",
     "start_time": "2021-12-24T05:14:58.525772Z"
    }
   },
   "outputs": [],
   "source": [
    "for year in range(1999,2021,5):\n",
    "    print(year)\n",
    "    startDate = str(year) + '-01-01'\n",
    "    endDate = str(year) + '-12-31'\n",
    "    l5 = ee.ImageCollection('LANDSAT/LT05/C01/T1_SR') \\\n",
    "           .select(['B1', 'B2', 'B3', 'B4', 'B5', 'B7','pixel_qa'],['B2', 'B3', 'B4', 'B5', 'B6', 'B7','pixel_qa']) \\\n",
    "           .filterBounds(roi) \\\n",
    "           .filterDate(startDate, endDate)  \n",
    "    l7 = ee.ImageCollection('LANDSAT/LE07/C01/T1_SR') \\\n",
    "           .select(['B1', 'B2', 'B3', 'B4', 'B5', 'B7','pixel_qa'],['B2', 'B3', 'B4', 'B5', 'B6', 'B7','pixel_qa']) \\\n",
    "           .filterBounds(roi) \\\n",
    "           .filterDate(startDate, endDate)           \n",
    "    l8 = ee.ImageCollection('LANDSAT/LC08/C01/T1_SR') \\\n",
    "           .select(['B2', 'B3', 'B4', 'B5', 'B6', 'B7','pixel_qa']) \\\n",
    "           .filterBounds(roi) \\\n",
    "           .filterDate(startDate, endDate)\n",
    "    sample_image = ee.ImageCollection(l8.merge(l7).merge(l5)).map(water_index).map(maskSR)\n",
    "    print('Total number of images：',sample_image.size().getInfo())\n",
    "    \n",
    "    # # Determination of the range of waterbodies in each category based on multi-water occurrence products\n",
    "    JRC_id = 'JRC/GSW1_3/YearlyHistory/' + str(year)\n",
    "    Maryland_id = 'users/311605001111/Maryland/Maryland_nationwide_' + str(year)\n",
    "    basemap = ee.Image.constant(0).clip(roi).rename('waterclass')\n",
    "    JRC = ee.Image(JRC_id).clip(roi).remap([0,1,2,3],[0,0,1,2]).rename('waterclass')\n",
    "    JRC_waterclass = ee.ImageCollection([JRC,basemap]).sum()\n",
    "    Maryland = ee.Image(Maryland_id).clip(roi).select('b1').rename('waterclass')\n",
    "    Maryland_permanent = Maryland.select('waterclass').gte(75).remap([0,1],[0,2]).rename('waterclass')\n",
    "    Maryland_season= ee.ImageCollection([Maryland.gte(25),Maryland.lt(75)]).sum().eq(2)\n",
    "    Maryland_waterclass = ee.ImageCollection([Maryland_permanent,Maryland_season,basemap]).sum()\n",
    "    permanentWaterExtent = ee.ImageCollection([JRC_waterclass.eq(2),Maryland_waterclass.eq(2)]).sum().eq(2)\n",
    "    landExtent = ee.ImageCollection([JRC_waterclass.eq(0),Maryland_waterclass.eq(0)]).sum().eq(2)\n",
    "    seasonWaterExtent_min = ee.ImageCollection([JRC_waterclass.eq(1),Maryland_waterclass.eq(1)]).sum().eq(2)\n",
    "    seasonWaterExtent_max = ee.ImageCollection([permanentWaterExtent,landExtent]).sum().remap([0,1],[1,0]).rename('waterclass')\n",
    "    #### sampling\n",
    "    ## \"dataset_id\" indicates the file name; \"assetID\" indicates the file path in GEE's Assets.\n",
    "    ## They need to be modified to suit your situation\n",
    "    dataset_id = region + '_PWL_' + str(year)\n",
    "    assetID = 'users/311605001111/' + region + '/' + dataset_id\n",
    "\n",
    "    points_collection = sample_image.map(imageSample).flatten()    \n",
    "    task = ee.batch.Export.table.toAsset(**{\n",
    "        'collection': points_collection,\n",
    "        'description': dataset_id,\n",
    "        'assetId': assetID\n",
    "    })\n",
    "    task.start()\n"
   ]
  },
  {
   "cell_type": "code",
   "execution_count": null,
   "metadata": {},
   "outputs": [],
   "source": []
  },
  {
   "cell_type": "markdown",
   "metadata": {},
   "source": [
    "## seasonal water samples"
   ]
  },
  {
   "cell_type": "markdown",
   "metadata": {},
   "source": [
    "You can view the download progress in \"Google earth engine->Code Editor->Tasks\""
   ]
  },
  {
   "cell_type": "code",
   "execution_count": null,
   "metadata": {},
   "outputs": [],
   "source": [
    "for year in range(1999,2021,5):\n",
    "    print(year)\n",
    "    startDate = str(year) + '-01-01'\n",
    "    endDate = str(year) + '-12-31'\n",
    "    l5 = ee.ImageCollection('LANDSAT/LT05/C01/T1_SR') \\\n",
    "           .select(['B1', 'B2', 'B3', 'B4', 'B5', 'B7','pixel_qa'],['B2', 'B3', 'B4', 'B5', 'B6', 'B7','pixel_qa']) \\\n",
    "           .filterBounds(roi) \\\n",
    "           .filterDate(startDate, endDate)  \n",
    "    l7 = ee.ImageCollection('LANDSAT/LE07/C01/T1_SR') \\\n",
    "           .select(['B1', 'B2', 'B3', 'B4', 'B5', 'B7','pixel_qa'],['B2', 'B3', 'B4', 'B5', 'B6', 'B7','pixel_qa']) \\\n",
    "           .filterBounds(roi) \\\n",
    "           .filterDate(startDate, endDate)           \n",
    "    l8 = ee.ImageCollection('LANDSAT/LC08/C01/T1_SR') \\\n",
    "           .select(['B2', 'B3', 'B4', 'B5', 'B6', 'B7','pixel_qa']) \\\n",
    "           .filterBounds(roi) \\\n",
    "           .filterDate(startDate, endDate)\n",
    "    sample_image = ee.ImageCollection(l8.merge(l7).merge(l5)).map(water_index).map(maskSR)\n",
    "    print('Total number of images：',sample_image.size().getInfo())\n",
    "    \n",
    "    # # Determination of the range of waterbodies in each category based on multi-water occurrence products\n",
    "    JRC_id = 'JRC/GSW1_3/YearlyHistory/' + str(year)\n",
    "    Maryland_id = 'users/311605001111/Maryland/Maryland_nationwide_' + str(year)\n",
    "    basemap = ee.Image.constant(0).clip(roi).rename('waterclass')\n",
    "    JRC = ee.Image(JRC_id).clip(roi).remap([0,1,2,3],[0,0,1,2]).rename('waterclass')\n",
    "    JRC_waterclass = ee.ImageCollection([JRC,basemap]).sum()\n",
    "    Maryland = ee.Image(Maryland_id).clip(roi).select('b1').rename('waterclass')\n",
    "    Maryland_permanent = Maryland.select('waterclass').gte(75).remap([0,1],[0,2]).rename('waterclass')\n",
    "    Maryland_season= ee.ImageCollection([Maryland.gte(25),Maryland.lt(75)]).sum().eq(2)\n",
    "    Maryland_waterclass = ee.ImageCollection([Maryland_permanent,Maryland_season,basemap]).sum()\n",
    "    permanentWaterExtent = ee.ImageCollection([JRC_waterclass.eq(2),Maryland_waterclass.eq(2)]).sum().eq(2)\n",
    "    landExtent = ee.ImageCollection([JRC_waterclass.eq(0),Maryland_waterclass.eq(0)]).sum().eq(2)\n",
    "    seasonWaterExtent_min = ee.ImageCollection([JRC_waterclass.eq(1),Maryland_waterclass.eq(1)]).sum().eq(2)\n",
    "    seasonWaterExtent_max = ee.ImageCollection([permanentWaterExtent,landExtent]).sum().remap([0,1],[1,0]).rename('waterclass')\n",
    "    \n",
    "    #### sampling\n",
    "    ## \"dataset_id\" indicates the file name; \"assetID\" indicates the file path in GEE's Assets.\n",
    "    ## They need to be modified to suit your situation\n",
    "    dataset_id = region + '_SW_' + str(year)\n",
    "    assetID = 'users/311605001111/' + region + '/' + dataset_id\n",
    "    \n",
    "    points_collection = sample_image.map(season).flatten()\n",
    "    task = ee.batch.Export.table.toAsset(**{\n",
    "        'collection': points_collection,\n",
    "        'description': dataset_id,\n",
    "        'assetId': assetID\n",
    "    })\n",
    "    task.start() "
   ]
  },
  {
   "cell_type": "code",
   "execution_count": null,
   "metadata": {},
   "outputs": [],
   "source": []
  },
  {
   "cell_type": "markdown",
   "metadata": {},
   "source": [
    "# Combining samples produced in the previous step"
   ]
  },
  {
   "cell_type": "markdown",
   "metadata": {},
   "source": [
    "Restarting the kernel. Click \"Kernel -> Restart & Clear Output\" in jupyter notebook\n",
    "\n",
    "\"Define the relevant functions\",\"Define the sample selection function\",\"Produce samples at five-year intervals\" etc.They do not need to be executed again, only the remainder is executed"
   ]
  },
  {
   "cell_type": "markdown",
   "metadata": {},
   "source": [
    "\"pw\" and \"sww\" represent the sample data obtained in step 3, which are stored in GEE's Assets"
   ]
  },
  {
   "cell_type": "code",
   "execution_count": null,
   "metadata": {},
   "outputs": [],
   "source": [
    "#### Removing outliers in sample sets \n",
    "\n",
    "bands = ['B2', 'B3', 'B4', 'B5', 'B6', 'B7','NDVI','NDWI','mNDWI','CWI','AWEI','EWI','EVI']\n",
    "def Compare(feature):\n",
    "    cluster = ee.Number(feature.get('cluster'))\n",
    "    waterclass = ee.Number(feature.get('waterclass'))\n",
    "    ft = ee.Algorithms.If(cluster.eq(waterclass),feature.set({'eq':1}),feature.set({'eq':0}))\n",
    "    return ft\n",
    "def removal_outliers(sampleSET):\n",
    "    clusterer = ee.Clusterer.wekaKMeans(2).train(sampleSET,bands)\n",
    "    result = sampleSET.cluster(clusterer)\n",
    "    right = result.map(Compare).filter(ee.Filter.eq('eq',0))\n",
    "    error = result.map(Compare).filter(ee.Filter.eq('eq',1))\n",
    "    filtered_sample = ee.FeatureCollection(ee.Algorithms.If(right.size().gt(error.size()),right,error))\n",
    "    return filtered_sample"
   ]
  },
  {
   "cell_type": "code",
   "execution_count": null,
   "metadata": {},
   "outputs": [],
   "source": [
    "totalSamples = ee.FeatureCollection([])\n",
    "for year in range(1999,2021,5):\n",
    "    print(year)\n",
    "    pw_nw = ee.FeatureCollection('users/311605001111/' + region + '/' + region + '_PWL_' + str(year))\n",
    "    permanent_water = pw_nw.filter(ee.Filter.eq('waterclass',1)).randomColumn('random',1,'uniform').sort('random').limit(500)\n",
    "    no_water = pw_nw.filter(ee.Filter.eq('waterclass',0)).randomColumn('random',1,'uniform').sort('random').limit(3000)\n",
    "    # print('Number of permanent water sampled： ',permanent_water.size().getInfo())\n",
    "    # print('Number of land sampled： ',no_water.size().getInfo())\n",
    "    sww = ee.FeatureCollection('users/311605001111/' + region + '/' + region + '_SW_' + str(year))\n",
    "    sw = sww.randomColumn('random',1,'uniform').sort('random').limit(500)\n",
    "    # print('Number of seasonal water sampled： ',sw.size().getInfo())\n",
    "    bands = ['B2', 'B3', 'B4', 'B5', 'B6', 'B7','NDVI','NDWI','mNDWI','CWI','AWEI','EWI','EVI']\n",
    "    cluster_samples = ee.FeatureCollection([permanent_water,no_water]).flatten()\n",
    "    clusterer = ee.Clusterer.wekaKMeans(2).train(cluster_samples,bands)\n",
    "    q = ee.FeatureCollection(sw.cluster(clusterer))\n",
    "    q1 = q.filter(ee.Filter.eq('cluster',1))\n",
    "    q0 = q.filter(ee.Filter.eq('cluster',0))\n",
    "    b1 = ee.FeatureCollection(q1).filter(ee.Filter.lt('AWEI',0)).size()\n",
    "    b2 = ee.FeatureCollection(q1).filter(ee.Filter.gt('AWEI',0)).size()\n",
    "    c1 = ee.FeatureCollection(q0).filter(ee.Filter.lt('AWEI',0)).size()\n",
    "    c2 = ee.FeatureCollection(q0).filter(ee.Filter.gt('AWEI',0)).size()\n",
    "    qq1 = ee.Algorithms.If(ee.Number(b1).lt(ee.Number(b2)),q1.map(lambda i:i.set({'waterclass':1})),q1.map(lambda i:i.set({'waterclass':0})))\n",
    "    qq0 = ee.Algorithms.If(ee.Number(c1).lt(ee.Number(c2)),q0.map(lambda i:i.set({'waterclass':1})),q0.map(lambda i:i.set({'waterclass':0})))\n",
    "    seasonWater = ee.FeatureCollection([qq1,qq0]).flatten()\n",
    "    total_Samples = ee.FeatureCollection([permanent_water,no_water,seasonWater]).flatten()\n",
    "    # print(\"Number of remaining samples before filtering: \", total_Samples.size().getInfo())\n",
    "    filtered_samples = removal_outliers(total_Samples)\n",
    "    # print(\"Number of remaining samples after filtering: \",filtered_samples.size().getInfo())\n",
    "    totalSamples = totalSamples.merge(filtered_samples)\n",
    "    print(\"Total sample： \",totalSamples.size().getInfo())"
   ]
  },
  {
   "cell_type": "code",
   "execution_count": null,
   "metadata": {},
   "outputs": [],
   "source": [
    "#### The data is stored in GEE's Assets\n",
    "## \"dataset_id\" indicates the file name; \"assetID\" indicates the file path in GEE's Assets.\n",
    "## They need to be modified to suit your situation\n",
    "\n",
    "dataset_id = region + '_9920'\n",
    "assetID = 'users/311605001111/' + region + '/' + dataset_id\n",
    "task = ee.batch.Export.table.toAsset(**{\n",
    "    'collection': totalSamples,\n",
    "    'description': dataset_id,\n",
    "    'assetId': assetID\n",
    "})\n",
    "task.start()"
   ]
  },
  {
   "cell_type": "markdown",
   "metadata": {},
   "source": [
    "You can view the download progress in \"Google earth engine->Code Editor->Tasks\""
   ]
  },
  {
   "cell_type": "code",
   "execution_count": null,
   "metadata": {},
   "outputs": [],
   "source": []
  },
  {
   "cell_type": "markdown",
   "metadata": {},
   "source": [
    "# Appendix--download"
   ]
  },
  {
   "cell_type": "markdown",
   "metadata": {},
   "source": [
    "By default, all processing results are saved to GEE's Assets. \n",
    "\n",
    "If required, they can also be downloaded to a local disk or Google Drive"
   ]
  },
  {
   "cell_type": "markdown",
   "metadata": {},
   "source": [
    "## Download to Google Drive"
   ]
  },
  {
   "cell_type": "code",
   "execution_count": null,
   "metadata": {},
   "outputs": [],
   "source": [
    "#### Calling the samples data stored in GEE's Assets. \n",
    "## \"data_id\" indicates the samples data id stored in GEE's Assets\n",
    "\n",
    "data_id = 'users/311605001111/wuhan/wuhan_9920'\n",
    "samples = ee.FeatureCollection(data_id)"
   ]
  },
  {
   "cell_type": "code",
   "execution_count": null,
   "metadata": {},
   "outputs": [],
   "source": [
    "#### The data will be stored in local dish\n",
    "## \"dataset_id\" indicates the file name; \"folder\" indicates the file path in local dish.\n",
    "## They need to be modified to suit your situation\n",
    "\n",
    "year = 9920\n",
    "region = 'wuhan'\n",
    "dataset_id = region + '_' + str(year)\n",
    "folder = region + '_samples'\n",
    "\n",
    "task = ee.batch.Export.table.toDrive(**{\n",
    "    'collection': samples,\n",
    "    'description':dataset_id,\n",
    "    'folder': folder,\n",
    "    'fileFormat': 'shp',\n",
    "})\n",
    "task.start()"
   ]
  },
  {
   "cell_type": "markdown",
   "metadata": {},
   "source": [
    "## Download to local disk"
   ]
  },
  {
   "cell_type": "code",
   "execution_count": null,
   "metadata": {},
   "outputs": [],
   "source": [
    "#### Calling the samples data stored in GEE's Assets. \n",
    "## \"data_id\" indicates the samples data id stored in GEE's Assets\n",
    "\n",
    "data_id = 'users/311605001111/wuhan/wuhan_9920'\n",
    "samples = ee.FeatureCollection(data_id)"
   ]
  },
  {
   "cell_type": "code",
   "execution_count": null,
   "metadata": {},
   "outputs": [],
   "source": [
    "#### The data will be stored in local dish\n",
    "## \"folder indicates the file path in local dish.\n",
    "## For example, the path for this experiment is \"D:/wuhan_samples/wuhan_9920.shp\"\n",
    "## They need to be modified to suit your situation\n",
    "\n",
    "region = 'wuhan'\n",
    "folder = 'D:/' + region + '_samples/' + region + '_9920.shp'\n",
    "\n",
    "task = geemap.ee_export_vector(samples, filename= folder)\n",
    "task.start()"
   ]
  },
  {
   "cell_type": "code",
   "execution_count": null,
   "metadata": {},
   "outputs": [],
   "source": []
  },
  {
   "cell_type": "code",
   "execution_count": null,
   "metadata": {},
   "outputs": [],
   "source": []
  }
 ],
 "metadata": {
  "hide_input": false,
  "kernelspec": {
   "display_name": "Python 3 (ipykernel)",
   "language": "python",
   "name": "python3"
  },
  "language_info": {
   "codemirror_mode": {
    "name": "ipython",
    "version": 3
   },
   "file_extension": ".py",
   "mimetype": "text/x-python",
   "name": "python",
   "nbconvert_exporter": "python",
   "pygments_lexer": "ipython3",
   "version": "3.8.12"
  },
  "toc": {
   "base_numbering": 1,
   "nav_menu": {
    "height": "172.997px",
    "width": "221.989px"
   },
   "number_sections": true,
   "sideBar": true,
   "skip_h1_title": false,
   "title_cell": "Table of Contents",
   "title_sidebar": "Contents",
   "toc_cell": false,
   "toc_position": {
    "height": "calc(100% - 180px)",
    "left": "10px",
    "top": "150px",
    "width": "349.091px"
   },
   "toc_section_display": true,
   "toc_window_display": true
  },
  "varInspector": {
   "cols": {
    "lenName": 16,
    "lenType": 16,
    "lenVar": 40
   },
   "kernels_config": {
    "python": {
     "delete_cmd_postfix": "",
     "delete_cmd_prefix": "del ",
     "library": "var_list.py",
     "varRefreshCmd": "print(var_dic_list())"
    },
    "r": {
     "delete_cmd_postfix": ") ",
     "delete_cmd_prefix": "rm(",
     "library": "var_list.r",
     "varRefreshCmd": "cat(var_dic_list()) "
    }
   },
   "types_to_exclude": [
    "module",
    "function",
    "builtin_function_or_method",
    "instance",
    "_Feature"
   ],
   "window_display": false
  }
 },
 "nbformat": 4,
 "nbformat_minor": 4
}
